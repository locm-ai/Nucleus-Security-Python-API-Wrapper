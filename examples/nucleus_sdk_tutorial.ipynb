{
 "cells": [
  {
   "cell_type": "markdown",
   "metadata": {},
   "source": [
    "# Nucleus SDK Tutorial\n",
    "\n",
    "This notebook demonstrates how to use the Nucleus SDK for various common tasks. We'll cover both basic and advanced usage patterns.\n",
    "\n",
    "## Setup\n",
    "\n",
    "First, let's install the SDK and import the necessary components:"
   ]
  },
  {
   "cell_type": "code",
   "execution_count": null,
   "metadata": {},
   "source": [
    "!pip install nucleus-sdk"
   ]
  },
  {
   "cell_type": "code",
   "execution_count": null,
   "metadata": {},
   "source": [
    "from nucleus import NucleusClient\n",
    "from nucleus.async_client import AsyncNucleusClient\n",
    "from nucleus.models import Severity, AssetType\n",
    "from nucleus.exceptions import NucleusAPIError\n",
    "import asyncio\n",
    "import logging\n",
    "from datetime import datetime\n",
    "\n",
    "# Configure logging\n",
    "logging.basicConfig(level=logging.INFO)"
   ]
  },
  {
   "cell_type": "markdown",
   "metadata": {},
   "source": [
    "## Basic Usage\n",
    "\n",
    "Let's start with basic operations using the synchronous client."
   ]
  },
  {
   "cell_type": "code",
   "execution_count": null,
   "metadata": {},
   "source": [
    "# Initialize the client\n",
    "client = NucleusClient(api_key=\"your-api-key-here\")\n",
    "\n",
    "# Get list of projects\n",
    "try:\n",
    "    projects = client.get_projects()\n",
    "    print(\"Projects:\")\n",
    "    for project in projects:\n",
    "        print(f\"- {project.project_name} (ID: {project.project_id})\")\n",
    "except NucleusAPIError as e:\n",
    "    print(f\"Error: {e}\")"
   ]
  },
  {
   "cell_type": "markdown",
   "metadata": {},
   "source": [
    "### Working with Assets\n",
    "\n",
    "Let's see how to manage assets in a project:"
   ]
  },
  {
   "cell_type": "code",
   "execution_count": null,
   "metadata": {},
   "source": [
    "def demonstrate_asset_operations(project_id):\n",
    "    # Create a new asset\n",
    "    new_asset = client.create_asset(\n",
    "        project_id=project_id,\n",
    "        asset_name=f\"demo-server-{datetime.now().strftime('%Y%m%d-%H%M%S')}\",\n",
    "        asset_type=AssetType.HOST,\n",
    "        ip_address=\"192.168.1.100\",\n",
    "        operating_system_name=\"Ubuntu\",\n",
    "        operating_system_version=\"20.04\",\n",
    "        asset_groups=[\"demo-group\"]\n",
    "    )\n",
    "    print(f\"Created new asset: {new_asset}\")\n",
    "    \n",
    "    # Get asset details\n",
    "    asset = client.get_asset(project_id, new_asset['asset_id'])\n",
    "    print(f\"\\nAsset details: {asset}\")\n",
    "    \n",
    "    # Update asset\n",
    "    client.update_asset(\n",
    "        project_id=project_id,\n",
    "        asset_id=new_asset['asset_id'],\n",
    "        asset_notes=\"Updated via SDK tutorial\"\n",
    "    )\n",
    "    print(\"\\nAsset updated successfully\")\n",
    "\n",
    "if projects:\n",
    "    demonstrate_asset_operations(projects[0].project_id)"
   ]
  },
  {
   "cell_type": "markdown",
   "metadata": {},
   "source": [
    "### Working with Findings\n",
    "\n",
    "Now let's look at how to work with findings:"
   ]
  },
  {
   "cell_type": "code",
   "execution_count": null,
   "metadata": {},
   "source": [
    "def demonstrate_findings_operations(project_id):\n",
    "    # Search for critical findings\n",
    "    findings = client.search_findings(\n",
    "        project_id=project_id,\n",
    "        filters=[{\n",
    "            \"property\": \"finding_severity\",\n",
    "            \"value\": Severity.CRITICAL,\n",
    "            \"exact_match\": True\n",
    "        }]\n",
    "    )\n",
    "    \n",
    "    print(\"Critical findings:\")\n",
    "    for finding in findings:\n",
    "        print(f\"- {finding.finding_name}\")\n",
    "        print(f\"  Severity: {finding.finding_severity}\")\n",
    "        print(f\"  Status: {finding.finding_status}\")\n",
    "        print(f\"  Discovered: {finding.finding_discovered}\")\n",
    "        print()\n",
    "\n",
    "if projects:\n",
    "    demonstrate_findings_operations(projects[0].project_id)"
   ]
  },
  {
   "cell_type": "markdown",
   "metadata": {},
   "source": [
    "## Advanced Usage\n",
    "\n",
    "Now let's explore some advanced features using the async client."
   ]
  },
  {
   "cell_type": "code",
   "execution_count": null,
   "metadata": {},
   "source": [
    "async def demonstrate_async_operations():\n",
    "    async with AsyncNucleusClient(\n",
    "        api_key=\"your-api-key-here\",\n",
    "        cache_ttl=300,  # 5 minutes cache\n",
    "        rate_limit_calls=100,  # 100 calls per minute\n",
    "        rate_limit_period=60\n",
    "    ) as client:\n",
    "        # Fetch multiple resources concurrently\n",
    "        print(\"Fetching data concurrently...\")\n",
    "        start_time = datetime.now()\n",
    "        \n",
    "        projects, findings = await asyncio.gather(\n",
    "            client.get_projects(),\n",
    "            client.search_findings(\n",
    "                project_id=123,\n",
    "                filters=[{\n",
    "                    \"property\": \"finding_severity\",\n",
    "                    \"value\": Severity.CRITICAL,\n",
    "                    \"exact_match\": True\n",
    "                }]\n",
    "            )\n",
    "        )\n",
    "\n",
    "        end_time = datetime.now()\n",
    "        print(f\"Concurrent fetching completed in {(end_time - start_time).total_seconds():.2f} seconds\")\n",
    "        \n",
    "        return projects, findings\n",
    "\n",
    "# Run async example\n",
    "projects, findings = await demonstrate_async_operations()"
   ]
  },
  {
   "cell_type": "markdown",
   "metadata": {},
   "source": [
    "### Bulk Operations\n",
    "\n",
    "Let's see how to perform bulk operations efficiently:"
   ]
  },
  {
   "cell_type": "code",
   "execution_count": null,
   "metadata": {},
   "source": [
    "async def demonstrate_bulk_operations(project_id):\n",
    "    async with AsyncNucleusClient(api_key=\"your-api-key-here\") as client:\n",
    "        # Prepare bulk updates\n",
    "        updates = [\n",
    "            {\n",
    "                \"finding_number\": \"VULN-001\",\n",
    "                \"finding_status\": \"In Progress\",\n",
    "                \"comment\": \"Working on fix\"\n",
    "            },\n",
    "            {\n",
    "                \"finding_number\": \"VULN-002\",\n",
    "                \"finding_status\": \"In Progress\",\n",
    "                \"comment\": \"Under review\"\n",
    "            }\n",
    "        ]\n",
    "        \n",
    "        try:\n",
    "            result = await client.bulk_update_findings(project_id, updates)\n",
    "            print(f\"Bulk update completed: {result}\")\n",
    "        except NucleusAPIError as e:\n",
    "            print(f\"Bulk update failed: {e}\")\n",
    "\n",
    "if projects:\n",
    "    await demonstrate_bulk_operations(projects[0].project_id)"
   ]
  },
  {
   "cell_type": "markdown",
   "metadata": {},
   "source": [
    "### Parallel Asset Scanning\n",
    "\n",
    "Here's how to scan multiple assets in parallel:"
   ]
  },
  {
   "cell_type": "code",
   "execution_count": null,
   "metadata": {},
   "source": [
    "async def scan_assets_parallel(project_id):\n",
    "    async with AsyncNucleusClient(api_key=\"your-api-key-here\") as client:\n",
    "        # Get all assets\n",
    "        assets = await client.get_project_assets(project_id)\n",
    "        \n",
    "        # Get findings for each asset in parallel\n",
    "        print(f\"\\nFetching findings for {len(assets)} assets in parallel...\")\n",
    "        start_time = datetime.now()\n",
    "        \n",
    "        asset_findings = await asyncio.gather(\n",
    "            *[client.get_asset_findings(project_id, asset.asset_id) for asset in assets[:5]],\n",
    "            return_exceptions=True\n",
    "        )\n",
    "        \n",
    "        end_time = datetime.now()\n",
    "        print(f\"Completed in {(end_time - start_time).total_seconds():.2f} seconds\")\n",
    "        \n",
    "        # Process results\n",
    "        for asset, findings in zip(assets[:5], asset_findings):\n",
    "            if isinstance(findings, Exception):\n",
    "                print(f\"Error for asset {asset.asset_name}: {findings}\")\n",
    "            else:\n",
    "                print(f\"\\nFindings for {asset.asset_name}:\")\n",
    "                for finding in findings[:3]:  # Show first 3 findings\n",
    "                    print(f\"- {finding.finding_name} ({finding.finding_severity})\")\n",
    "\n",
    "if projects:\n",
    "    await scan_assets_parallel(projects[0].project_id)"
   ]
  },
  {
   "cell_type": "markdown",
   "metadata": {},
   "source": [
    "## Error Handling Examples\n",
    "\n",
    "Let's look at proper error handling:"
   ]
  },
  {
   "cell_type": "code",
   "execution_count": null,
   "metadata": {},
   "source": [
    "def demonstrate_error_handling():\n",
    "    try:\n",
    "        # Try to get a non-existent project\n",
    "        project = client.get_project(project_id=999999)\n",
    "    except NucleusNotFoundError:\n",
    "        print(\"Project not found\")\n",
    "    except NucleusAuthError:\n",
    "        print(\"Authentication failed\")\n",
    "    except NucleusPermissionError:\n",
    "        print(\"Permission denied\")\n",
    "    except NucleusAPIError as e:\n",
    "        print(f\"API error: {e}\")\n",
    "        if hasattr(e, 'status_code'):\n",
    "            print(f\"Status code: {e.status_code}\")\n",
    "        if hasattr(e, 'response'):\n",
    "            print(f\"Response: {e.response}\")\n",
    "\n",
    "demonstrate_error_handling()"
   ]
  },
  {
   "cell_type": "markdown",
   "metadata": {},
   "source": [
    "## Conclusion\n",
    "\n",
    "This notebook demonstrated various features of the Nucleus SDK, including:\n",
    "- Basic operations with projects, assets, and findings\n",
    "- Async operations for improved performance\n",
    "- Bulk operations for efficient updates\n",
    "- Parallel asset scanning\n",
    "- Proper error handling\n",
    "\n",
    "For more information, check out the [SDK documentation](https://github.com/your-repo/nucleus-sdk) and the [Nucleus API Documentation](https://api-docs.nucleussec.com/nucleus/docs/)."
   ]
  }
 ],
 "metadata": {
  "kernelspec": {
   "display_name": "Python 3",
   "language": "python",
   "name": "python3"
  },
  "language_info": {
   "codemirror_mode": {
    "name": "ipython",
    "version": 3
   },
   "file_extension": ".py",
   "mimetype": "text/x-python",
   "name": "python",
   "nbconvert_exporter": "python",
   "pygments_lexer": "ipython3",
   "version": "3.8.0"
  }
 },
 "nbformat": 4,
 "nbformat_minor": 4
}
